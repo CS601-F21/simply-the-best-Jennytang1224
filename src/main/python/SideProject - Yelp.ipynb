{
 "cells": [
  {
   "cell_type": "code",
   "execution_count": 1,
   "id": "8cdf3a3a",
   "metadata": {
    "scrolled": true
   },
   "outputs": [],
   "source": [
    "import pandas as pd\n",
    "import json\n",
    "import jsonlines\n",
    "from pandas import json_normalize"
   ]
  },
  {
   "cell_type": "markdown",
   "id": "ce913fbc",
   "metadata": {},
   "source": [
    "# Load and parse business data with nested json"
   ]
  },
  {
   "cell_type": "code",
   "execution_count": 2,
   "id": "483bf6a6",
   "metadata": {
    "scrolled": true
   },
   "outputs": [],
   "source": [
    "dict = {}\n",
    "final = []\n",
    "all_counter = 0;\n",
    "food_counter = 0;\n",
    "with open(\"data/yelp_academic_dataset_business.json\") as f:\n",
    "    data = json.loads(\"[\" + \n",
    "        f.read().replace(\"}\\n{\", \"},\\n{\") + \n",
    "    \"]\")\n",
    "    \n",
    "    for values in data:\n",
    "        all_counter+=1\n",
    "        #print(values)\n",
    "        business_id = values['business_id']\n",
    "        name = values['name']\n",
    "        address = values['address']\n",
    "        city = values['city']\n",
    "        state = values['state']\n",
    "        postal_code = values['postal_code']\n",
    "        stars = values['stars']\n",
    "        review_count = values['review_count']\n",
    "        categories = values['categories']\n",
    "       \n",
    "\n",
    "        dict={'business_id': business_id, 'name': name, 'address': address, \n",
    "             'city': city,'state': state, 'postal_code': postal_code,'stars': stars, \n",
    "             'review_count': review_count,'categories': categories}\n",
    "        if (categories is not None):\n",
    "            #print (categories.split(\", \"))\n",
    "            if(\"Food\" in categories.split(\", \")):\n",
    "                #print (categories.split(\", \"))\n",
    "                #print(dict)\n",
    "                food_counter+=1\n",
    "                final.append(dict)"
   ]
  },
  {
   "cell_type": "code",
   "execution_count": 3,
   "id": "05975609",
   "metadata": {
    "scrolled": true
   },
   "outputs": [
    {
     "data": {
      "text/plain": [
       "[{'business_id': '6iYb2HFDywm3zjuRg0shjw',\n",
       "  'name': 'Oskar Blues Taproom',\n",
       "  'address': '921 Pearl St',\n",
       "  'city': 'Boulder',\n",
       "  'state': 'CO',\n",
       "  'postal_code': '80302',\n",
       "  'stars': 4.0,\n",
       "  'review_count': 86,\n",
       "  'categories': 'Gastropubs, Food, Beer Gardens, Restaurants, Bars, American (Traditional), Beer Bar, Nightlife, Breweries'},\n",
       " {'business_id': 'rYs_1pNB_RMtn5WQh55QDA',\n",
       "  'name': 'Chautauqua General Store',\n",
       "  'address': '100 Clematis Dr',\n",
       "  'city': 'Boulder',\n",
       "  'state': 'CO',\n",
       "  'postal_code': '80302',\n",
       "  'stars': 3.5,\n",
       "  'review_count': 5,\n",
       "  'categories': 'Food, Shopping, Convenience Stores, Souvenir Shops'},\n",
       " {'business_id': 'HPA_qyMEddpAEtFof02ixg',\n",
       "  'name': \"Mr G's Pizza & Subs\",\n",
       "  'address': '474 Lowell St',\n",
       "  'city': 'Peabody',\n",
       "  'state': 'MA',\n",
       "  'postal_code': '01960',\n",
       "  'stars': 4.0,\n",
       "  'review_count': 39,\n",
       "  'categories': 'Food, Pizza, Restaurants'}]"
      ]
     },
     "execution_count": 3,
     "metadata": {},
     "output_type": "execute_result"
    }
   ],
   "source": [
    "final[0:3]"
   ]
  },
  {
   "cell_type": "code",
   "execution_count": 4,
   "id": "c4674f07",
   "metadata": {
    "scrolled": true
   },
   "outputs": [
    {
     "data": {
      "text/plain": [
       "(29469, 160585, 0.18351029050035805)"
      ]
     },
     "execution_count": 4,
     "metadata": {},
     "output_type": "execute_result"
    }
   ],
   "source": [
    "food_counter, all_counter, food_counter/all_counter"
   ]
  },
  {
   "cell_type": "code",
   "execution_count": 5,
   "id": "1bfce8e4",
   "metadata": {
    "scrolled": true
   },
   "outputs": [],
   "source": [
    "items = pd.DataFrame.from_records(final)"
   ]
  },
  {
   "cell_type": "code",
   "execution_count": 6,
   "id": "836e55a4",
   "metadata": {
    "scrolled": true
   },
   "outputs": [
    {
     "data": {
      "text/plain": [
       "Portland           3935\n",
       "Austin             3463\n",
       "Vancouver          3110\n",
       "Atlanta            2005\n",
       "Orlando            1877\n",
       "                   ... \n",
       "Wellesley Hills       1\n",
       "Hanscom AFB           1\n",
       "Heathrow              1\n",
       "Creedmoor             1\n",
       "Lower Mills           1\n",
       "Name: city, Length: 395, dtype: int64"
      ]
     },
     "execution_count": 6,
     "metadata": {},
     "output_type": "execute_result"
    }
   ],
   "source": [
    "items.city.value_counts() # Portland has the most number of business"
   ]
  },
  {
   "cell_type": "markdown",
   "id": "91223378",
   "metadata": {},
   "source": [
    "### Only focus on the  3935 business in Portland:"
   ]
  },
  {
   "cell_type": "code",
   "execution_count": 7,
   "id": "e24d9a02",
   "metadata": {
    "scrolled": true
   },
   "outputs": [],
   "source": [
    "biz = items[items.city == \"Portland\"]\n",
    "portland_biz_ids = biz.business_id.to_list() "
   ]
  },
  {
   "cell_type": "code",
   "execution_count": 8,
   "id": "b4ea3b63",
   "metadata": {
    "scrolled": true
   },
   "outputs": [
    {
     "data": {
      "text/plain": [
       "[{'business_id': 'Npm0cjoyWwyV13OULL9qOA',\n",
       "  'name': \"Nana's Ice Cream Scoop Shop\",\n",
       "  'address': '5224 NE Garfield Ave',\n",
       "  'city': 'Portland',\n",
       "  'state': 'OR',\n",
       "  'postal_code': '97211',\n",
       "  'stars': 4.0,\n",
       "  'review_count': 5,\n",
       "  'categories': 'Food, Ice Cream & Frozen Yogurt'},\n",
       " {'business_id': 'ZA3u0Nu5V6TqkcYh8U0zdg',\n",
       "  'name': 'B Street Coffee House',\n",
       "  'address': '2190 W Burnside St',\n",
       "  'city': 'Portland',\n",
       "  'state': 'OR',\n",
       "  'postal_code': '97210',\n",
       "  'stars': 4.5,\n",
       "  'review_count': 131,\n",
       "  'categories': 'Restaurants, Food, Sandwiches, Breakfast & Brunch, Gluten-Free, Coffee & Tea, Bagels'},\n",
       " {'business_id': 'CBkF_Ub_nxOhOEN3Zbo_RQ',\n",
       "  'name': 'Plaid Pantry',\n",
       "  'address': '2010 N Killingsworth St',\n",
       "  'city': 'Portland',\n",
       "  'state': 'OR',\n",
       "  'postal_code': '97217',\n",
       "  'stars': 4.0,\n",
       "  'review_count': 10,\n",
       "  'categories': 'Convenience Stores, Food'}]"
      ]
     },
     "execution_count": 8,
     "metadata": {},
     "output_type": "execute_result"
    }
   ],
   "source": [
    "biz_json = biz.to_json(orient = \"records\")\n",
    "biz_parsed = json.loads(biz_json)\n",
    "biz_parsed[0:3]"
   ]
  },
  {
   "cell_type": "markdown",
   "id": "57aa7a15",
   "metadata": {},
   "source": [
    "### Save business data to json file"
   ]
  },
  {
   "cell_type": "code",
   "execution_count": 9,
   "id": "e9ae3759",
   "metadata": {
    "scrolled": true
   },
   "outputs": [],
   "source": [
    "# with open('data/yelp_academic_dataset_business_food.json', 'w') as f:\n",
    "#     for obj in biz_parsed:\n",
    "#         json.dump(obj, f,  separators=(\", \", \": \"))\n",
    "#         f.write('\\n')"
   ]
  },
  {
   "cell_type": "markdown",
   "id": "f742cef8",
   "metadata": {},
   "source": [
    "# Load review data"
   ]
  },
  {
   "cell_type": "code",
   "execution_count": 10,
   "id": "11f8e2e8",
   "metadata": {
    "scrolled": false
   },
   "outputs": [
    {
     "data": {
      "text/html": [
       "<div>\n",
       "<style scoped>\n",
       "    .dataframe tbody tr th:only-of-type {\n",
       "        vertical-align: middle;\n",
       "    }\n",
       "\n",
       "    .dataframe tbody tr th {\n",
       "        vertical-align: top;\n",
       "    }\n",
       "\n",
       "    .dataframe thead th {\n",
       "        text-align: right;\n",
       "    }\n",
       "</style>\n",
       "<table border=\"1\" class=\"dataframe\">\n",
       "  <thead>\n",
       "    <tr style=\"text-align: right;\">\n",
       "      <th></th>\n",
       "      <th>review_id</th>\n",
       "      <th>user_id</th>\n",
       "      <th>business_id</th>\n",
       "      <th>stars</th>\n",
       "      <th>useful</th>\n",
       "      <th>funny</th>\n",
       "      <th>cool</th>\n",
       "      <th>text</th>\n",
       "      <th>date</th>\n",
       "    </tr>\n",
       "  </thead>\n",
       "  <tbody>\n",
       "    <tr>\n",
       "      <th>0</th>\n",
       "      <td>lWC-xP3rd6obsecCYsGZRg</td>\n",
       "      <td>ak0TdVmGKo4pwqdJSTLwWw</td>\n",
       "      <td>buF9druCkbuXLX526sGELQ</td>\n",
       "      <td>4</td>\n",
       "      <td>3</td>\n",
       "      <td>1</td>\n",
       "      <td>1</td>\n",
       "      <td>Apparently Prides Osteria had a rough summer a...</td>\n",
       "      <td>2014-10-11 03:34:02</td>\n",
       "    </tr>\n",
       "    <tr>\n",
       "      <th>1</th>\n",
       "      <td>8bFej1QE5LXp4O05qjGqXA</td>\n",
       "      <td>YoVfDbnISlW0f7abNQACIg</td>\n",
       "      <td>RA4V8pr014UyUbDvI-LW2A</td>\n",
       "      <td>4</td>\n",
       "      <td>1</td>\n",
       "      <td>0</td>\n",
       "      <td>0</td>\n",
       "      <td>This store is pretty good. Not as great as Wal...</td>\n",
       "      <td>2015-07-03 20:38:25</td>\n",
       "    </tr>\n",
       "    <tr>\n",
       "      <th>2</th>\n",
       "      <td>NDhkzczKjLshODbqDoNLSg</td>\n",
       "      <td>eC5evKn1TWDyHCyQAwguUw</td>\n",
       "      <td>_sS2LBIGNT5NQb6PD1Vtjw</td>\n",
       "      <td>5</td>\n",
       "      <td>0</td>\n",
       "      <td>0</td>\n",
       "      <td>0</td>\n",
       "      <td>I called WVM on the recommendation of a couple...</td>\n",
       "      <td>2013-05-28 20:38:06</td>\n",
       "    </tr>\n",
       "  </tbody>\n",
       "</table>\n",
       "</div>"
      ],
      "text/plain": [
       "                review_id                 user_id             business_id  \\\n",
       "0  lWC-xP3rd6obsecCYsGZRg  ak0TdVmGKo4pwqdJSTLwWw  buF9druCkbuXLX526sGELQ   \n",
       "1  8bFej1QE5LXp4O05qjGqXA  YoVfDbnISlW0f7abNQACIg  RA4V8pr014UyUbDvI-LW2A   \n",
       "2  NDhkzczKjLshODbqDoNLSg  eC5evKn1TWDyHCyQAwguUw  _sS2LBIGNT5NQb6PD1Vtjw   \n",
       "\n",
       "   stars  useful  funny  cool  \\\n",
       "0      4       3      1     1   \n",
       "1      4       1      0     0   \n",
       "2      5       0      0     0   \n",
       "\n",
       "                                                text                date  \n",
       "0  Apparently Prides Osteria had a rough summer a... 2014-10-11 03:34:02  \n",
       "1  This store is pretty good. Not as great as Wal... 2015-07-03 20:38:25  \n",
       "2  I called WVM on the recommendation of a couple... 2013-05-28 20:38:06  "
      ]
     },
     "execution_count": 10,
     "metadata": {},
     "output_type": "execute_result"
    }
   ],
   "source": [
    "reviews = pd.read_json(\"data/yelp_academic_dataset_review.json\", lines=True)\n",
    "reviews.head(3)"
   ]
  },
  {
   "cell_type": "code",
   "execution_count": 11,
   "id": "f65d9090",
   "metadata": {
    "scrolled": true
   },
   "outputs": [
    {
     "data": {
      "text/html": [
       "<div>\n",
       "<style scoped>\n",
       "    .dataframe tbody tr th:only-of-type {\n",
       "        vertical-align: middle;\n",
       "    }\n",
       "\n",
       "    .dataframe tbody tr th {\n",
       "        vertical-align: top;\n",
       "    }\n",
       "\n",
       "    .dataframe thead th {\n",
       "        text-align: right;\n",
       "    }\n",
       "</style>\n",
       "<table border=\"1\" class=\"dataframe\">\n",
       "  <thead>\n",
       "    <tr style=\"text-align: right;\">\n",
       "      <th></th>\n",
       "      <th>review_id</th>\n",
       "      <th>user_id</th>\n",
       "      <th>business_id</th>\n",
       "      <th>stars</th>\n",
       "      <th>useful</th>\n",
       "      <th>funny</th>\n",
       "      <th>cool</th>\n",
       "      <th>text</th>\n",
       "      <th>date</th>\n",
       "    </tr>\n",
       "  </thead>\n",
       "  <tbody>\n",
       "    <tr>\n",
       "      <th>42</th>\n",
       "      <td>lJ7rzbvT-l8KO8lHfEsXsg</td>\n",
       "      <td>LV1ME-ibA2h0IGyFUUWhaQ</td>\n",
       "      <td>H_RM2u1WWGU1HkKZrYq2Ow</td>\n",
       "      <td>5</td>\n",
       "      <td>0</td>\n",
       "      <td>0</td>\n",
       "      <td>0</td>\n",
       "      <td>Incredible donuts. Sometimes you have to go ea...</td>\n",
       "      <td>2017-08-07 19:34:13</td>\n",
       "    </tr>\n",
       "    <tr>\n",
       "      <th>45</th>\n",
       "      <td>m-9DK7NwYedIPj1RQ_sXdw</td>\n",
       "      <td>JuM-lH05m6Ln8OPUTg8p0g</td>\n",
       "      <td>H_RM2u1WWGU1HkKZrYq2Ow</td>\n",
       "      <td>5</td>\n",
       "      <td>0</td>\n",
       "      <td>0</td>\n",
       "      <td>0</td>\n",
       "      <td>Dont bother going to voodoo, just come here in...</td>\n",
       "      <td>2016-09-18 17:06:01</td>\n",
       "    </tr>\n",
       "    <tr>\n",
       "      <th>56</th>\n",
       "      <td>oL2y3mXe_qab349DPW6uZg</td>\n",
       "      <td>4cDqW9sWnZ57tsIEiElJWw</td>\n",
       "      <td>0nMbLN0B5I-2tNnQLSo86w</td>\n",
       "      <td>5</td>\n",
       "      <td>4</td>\n",
       "      <td>4</td>\n",
       "      <td>4</td>\n",
       "      <td>\"Even the mad Captain Ahab is touched by Starb...</td>\n",
       "      <td>2017-12-02 19:41:59</td>\n",
       "    </tr>\n",
       "  </tbody>\n",
       "</table>\n",
       "</div>"
      ],
      "text/plain": [
       "                 review_id                 user_id             business_id  \\\n",
       "42  lJ7rzbvT-l8KO8lHfEsXsg  LV1ME-ibA2h0IGyFUUWhaQ  H_RM2u1WWGU1HkKZrYq2Ow   \n",
       "45  m-9DK7NwYedIPj1RQ_sXdw  JuM-lH05m6Ln8OPUTg8p0g  H_RM2u1WWGU1HkKZrYq2Ow   \n",
       "56  oL2y3mXe_qab349DPW6uZg  4cDqW9sWnZ57tsIEiElJWw  0nMbLN0B5I-2tNnQLSo86w   \n",
       "\n",
       "    stars  useful  funny  cool  \\\n",
       "42      5       0      0     0   \n",
       "45      5       0      0     0   \n",
       "56      5       4      4     4   \n",
       "\n",
       "                                                 text                date  \n",
       "42  Incredible donuts. Sometimes you have to go ea... 2017-08-07 19:34:13  \n",
       "45  Dont bother going to voodoo, just come here in... 2016-09-18 17:06:01  \n",
       "56  \"Even the mad Captain Ahab is touched by Starb... 2017-12-02 19:41:59  "
      ]
     },
     "execution_count": 11,
     "metadata": {},
     "output_type": "execute_result"
    }
   ],
   "source": [
    "portland_food_reviews = reviews[reviews.business_id.isin(portland_biz_ids)]\n",
    "portland_food_reviews.head(3)"
   ]
  },
  {
   "cell_type": "code",
   "execution_count": 12,
   "id": "d1bd934a",
   "metadata": {
    "scrolled": true
   },
   "outputs": [
    {
     "data": {
      "text/plain": [
       "3935"
      ]
     },
     "execution_count": 12,
     "metadata": {},
     "output_type": "execute_result"
    }
   ],
   "source": [
    "portland_food_reviews.business_id.nunique()"
   ]
  },
  {
   "cell_type": "code",
   "execution_count": 13,
   "id": "1758b165",
   "metadata": {
    "scrolled": true
   },
   "outputs": [
    {
     "data": {
      "text/plain": [
       "5    196108\n",
       "4     96340\n",
       "3     41153\n",
       "1     28104\n",
       "2     27397\n",
       "Name: stars, dtype: int64"
      ]
     },
     "execution_count": 13,
     "metadata": {},
     "output_type": "execute_result"
    }
   ],
   "source": [
    "portland_food_reviews.stars.value_counts()"
   ]
  },
  {
   "cell_type": "code",
   "execution_count": 14,
   "id": "74aed5a8",
   "metadata": {
    "scrolled": true
   },
   "outputs": [
    {
     "data": {
      "text/plain": [
       "(Timestamp('2004-12-10 01:16:29'), Timestamp('2021-01-28 09:08:12'))"
      ]
     },
     "execution_count": 14,
     "metadata": {},
     "output_type": "execute_result"
    }
   ],
   "source": [
    "portland_food_reviews.date.min(), portland_food_reviews.date.max()"
   ]
  },
  {
   "cell_type": "code",
   "execution_count": 15,
   "id": "8a078358",
   "metadata": {
    "scrolled": true
   },
   "outputs": [
    {
     "data": {
      "text/plain": [
       "5    182928\n",
       "4     83599\n",
       "3     36219\n",
       "1     26630\n",
       "2     24806\n",
       "Name: stars, dtype: int64"
      ]
     },
     "execution_count": 15,
     "metadata": {},
     "output_type": "execute_result"
    }
   ],
   "source": [
    "portland_food_reviews[portland_food_reviews.date > pd.to_datetime('2011-01-01 00:00:00')].stars.value_counts() "
   ]
  },
  {
   "cell_type": "code",
   "execution_count": 16,
   "id": "24066a9d",
   "metadata": {
    "scrolled": false
   },
   "outputs": [
    {
     "data": {
      "text/plain": [
       "4CxF8c3MB7VAdY8zFb2cZQ    9295\n",
       "OQ2oHkcWA8KNC1Lsvj1SBA    7394\n",
       "OPfgKOm_n-ajUo3qjSEgRg    4332\n",
       "H_RM2u1WWGU1HkKZrYq2Ow    4055\n",
       "o_L9Ss4boqq6ZEF9xeSH6Q    3721\n",
       "                          ... \n",
       "x03b65sGbnxfLz4JV2w1lw       5\n",
       "dcyU9_yA5TWOry5px_6OjA       5\n",
       "UcvTXXBO2CKA5auE8Q-QxA       5\n",
       "IYfq-zB7FHjc6UmquJ-UPQ       5\n",
       "KM_PMnU1fNP7iXorysT6yg       5\n",
       "Name: business_id, Length: 3935, dtype: int64"
      ]
     },
     "execution_count": 16,
     "metadata": {},
     "output_type": "execute_result"
    }
   ],
   "source": [
    "portland_food_reviews.business_id.value_counts()"
   ]
  },
  {
   "cell_type": "markdown",
   "id": "68ca08e0",
   "metadata": {},
   "source": [
    "### Filter reviews in Portland since 2018 (last 3 years reviews) \n",
    "~112,381 reviews related to these 3935 restaurant business"
   ]
  },
  {
   "cell_type": "code",
   "execution_count": 17,
   "id": "6949cbef",
   "metadata": {
    "scrolled": true
   },
   "outputs": [
    {
     "data": {
      "text/html": [
       "<div>\n",
       "<style scoped>\n",
       "    .dataframe tbody tr th:only-of-type {\n",
       "        vertical-align: middle;\n",
       "    }\n",
       "\n",
       "    .dataframe tbody tr th {\n",
       "        vertical-align: top;\n",
       "    }\n",
       "\n",
       "    .dataframe thead th {\n",
       "        text-align: right;\n",
       "    }\n",
       "</style>\n",
       "<table border=\"1\" class=\"dataframe\">\n",
       "  <thead>\n",
       "    <tr style=\"text-align: right;\">\n",
       "      <th></th>\n",
       "      <th>review_id</th>\n",
       "      <th>user_id</th>\n",
       "      <th>business_id</th>\n",
       "      <th>stars</th>\n",
       "      <th>useful</th>\n",
       "      <th>funny</th>\n",
       "      <th>cool</th>\n",
       "      <th>text</th>\n",
       "      <th>date</th>\n",
       "    </tr>\n",
       "  </thead>\n",
       "  <tbody>\n",
       "    <tr>\n",
       "      <th>71</th>\n",
       "      <td>drj-5euhU_5uVFcZ9nvsjw</td>\n",
       "      <td>onoPTc_dcSlQOOk6PUxpaw</td>\n",
       "      <td>g4CP3kgH1jTtMn-joxPT0A</td>\n",
       "      <td>4</td>\n",
       "      <td>0</td>\n",
       "      <td>0</td>\n",
       "      <td>0</td>\n",
       "      <td>5 stars for the location, it's absolutely wond...</td>\n",
       "      <td>2018-04-27 18:41:52</td>\n",
       "    </tr>\n",
       "    <tr>\n",
       "      <th>119</th>\n",
       "      <td>hz71QeBko3oBLqRD4lUygA</td>\n",
       "      <td>PR-NRdbE4Fnaq-kULI4gog</td>\n",
       "      <td>Agq4zoNLSIpT1_ZJbnrvww</td>\n",
       "      <td>4</td>\n",
       "      <td>0</td>\n",
       "      <td>0</td>\n",
       "      <td>0</td>\n",
       "      <td>The cost isn't expensive and it is very good. ...</td>\n",
       "      <td>2018-04-04 00:31:23</td>\n",
       "    </tr>\n",
       "    <tr>\n",
       "      <th>308</th>\n",
       "      <td>_ZNeVX7zMMlwNjc-W-vAeA</td>\n",
       "      <td>_5f0aOXWuPUJWg1FiCxt3Q</td>\n",
       "      <td>6yBizH8RnIYXk6vboLk3PA</td>\n",
       "      <td>3</td>\n",
       "      <td>0</td>\n",
       "      <td>0</td>\n",
       "      <td>0</td>\n",
       "      <td>With a suggestion from a friend on a place to ...</td>\n",
       "      <td>2018-06-19 07:43:25</td>\n",
       "    </tr>\n",
       "  </tbody>\n",
       "</table>\n",
       "</div>"
      ],
      "text/plain": [
       "                  review_id                 user_id             business_id  \\\n",
       "71   drj-5euhU_5uVFcZ9nvsjw  onoPTc_dcSlQOOk6PUxpaw  g4CP3kgH1jTtMn-joxPT0A   \n",
       "119  hz71QeBko3oBLqRD4lUygA  PR-NRdbE4Fnaq-kULI4gog  Agq4zoNLSIpT1_ZJbnrvww   \n",
       "308  _ZNeVX7zMMlwNjc-W-vAeA  _5f0aOXWuPUJWg1FiCxt3Q  6yBizH8RnIYXk6vboLk3PA   \n",
       "\n",
       "     stars  useful  funny  cool  \\\n",
       "71       4       0      0     0   \n",
       "119      4       0      0     0   \n",
       "308      3       0      0     0   \n",
       "\n",
       "                                                  text                date  \n",
       "71   5 stars for the location, it's absolutely wond... 2018-04-27 18:41:52  \n",
       "119  The cost isn't expensive and it is very good. ... 2018-04-04 00:31:23  \n",
       "308  With a suggestion from a friend on a place to ... 2018-06-19 07:43:25  "
      ]
     },
     "execution_count": 17,
     "metadata": {},
     "output_type": "execute_result"
    }
   ],
   "source": [
    "portland_food_reviews_last_3_years = portland_food_reviews[portland_food_reviews.date > pd.to_datetime('2018-01-01 00:00:00')]\n",
    "portland_food_reviews_last_3_years.head(3)"
   ]
  },
  {
   "cell_type": "code",
   "execution_count": 18,
   "id": "4b47bfc1",
   "metadata": {
    "scrolled": true
   },
   "outputs": [
    {
     "data": {
      "text/plain": [
       "[{'review_id': 'drj-5euhU_5uVFcZ9nvsjw',\n",
       "  'user_id': 'onoPTc_dcSlQOOk6PUxpaw',\n",
       "  'business_id': 'g4CP3kgH1jTtMn-joxPT0A',\n",
       "  'stars': 4,\n",
       "  'useful': 0,\n",
       "  'funny': 0,\n",
       "  'cool': 0,\n",
       "  'text': \"5 stars for the location, it's absolutely wonderful. I ordered the shamrock bubble tea, which was one of the best I've ever had. I am subtracting a star for service however.  It was the barista that was so put out by waiting on us and then the 10-15 minutes it took to make the bubble tea... That's a bit long for a drink.\",\n",
       "  'date': 1524854512000},\n",
       " {'review_id': 'hz71QeBko3oBLqRD4lUygA',\n",
       "  'user_id': 'PR-NRdbE4Fnaq-kULI4gog',\n",
       "  'business_id': 'Agq4zoNLSIpT1_ZJbnrvww',\n",
       "  'stars': 4,\n",
       "  'useful': 0,\n",
       "  'funny': 0,\n",
       "  'cool': 0,\n",
       "  'text': \"The cost isn't expensive and it is very good. For me, places like Voodoo is too sweet for me, but it is not the case for Donut Palace. The donut itself is very airy and absolutely delicious when bitten down. I have only been there once, but I'm already enjoying it a lot!\",\n",
       "  'date': 1522801883000},\n",
       " {'review_id': '_ZNeVX7zMMlwNjc-W-vAeA',\n",
       "  'user_id': '_5f0aOXWuPUJWg1FiCxt3Q',\n",
       "  'business_id': '6yBizH8RnIYXk6vboLk3PA',\n",
       "  'stars': 3,\n",
       "  'useful': 0,\n",
       "  'funny': 0,\n",
       "  'cool': 0,\n",
       "  'text': \"With a suggestion from a friend on a place to get some dessert we went to Random Order Pie Bar.  \\n\\nThe location is small and cozy.  The staff was pleasant and friendly.  Unfortunately, the one thing they are known for was a bit off.\\n\\nMy son and I had a slice of banana cream and coconut cream.  The banana cream was the better of the two.  The coconut was a bit bland and the crust on both was hard and even down right hard to cut through.\\n\\nMaybe we came at a bad time and the pies weren't freshly made.  Time will tell if we get another chance to try.\",\n",
       "  'date': 1529394205000}]"
      ]
     },
     "execution_count": 18,
     "metadata": {},
     "output_type": "execute_result"
    }
   ],
   "source": [
    "review_json = portland_food_reviews_last_3_years.to_json(orient = \"records\")\n",
    "review_parsed = json.loads(review_json)\n",
    "review_parsed[0:3]"
   ]
  },
  {
   "cell_type": "markdown",
   "id": "2cd88314",
   "metadata": {},
   "source": [
    "### save review data to json file"
   ]
  },
  {
   "cell_type": "code",
   "execution_count": 19,
   "id": "e130f6b6",
   "metadata": {
    "scrolled": true
   },
   "outputs": [],
   "source": [
    "# #save food data to a new json file\n",
    "# with open('data/yelp_academic_dataset_review_food.json', 'w') as f:\n",
    "#     for obj in review_parsed:\n",
    "#         json.dump(obj, f,  separators=(\", \", \": \"))\n",
    "#         f.write('\\n')"
   ]
  },
  {
   "cell_type": "code",
   "execution_count": null,
   "id": "dfe6046e",
   "metadata": {
    "scrolled": true
   },
   "outputs": [],
   "source": []
  }
 ],
 "metadata": {
  "kernelspec": {
   "display_name": "Python 3",
   "language": "python",
   "name": "python3"
  },
  "language_info": {
   "codemirror_mode": {
    "name": "ipython",
    "version": 3
   },
   "file_extension": ".py",
   "mimetype": "text/x-python",
   "name": "python",
   "nbconvert_exporter": "python",
   "pygments_lexer": "ipython3",
   "version": "3.9.1"
  }
 },
 "nbformat": 4,
 "nbformat_minor": 5
}
